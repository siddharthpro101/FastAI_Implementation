{
 "cells": [
  {
   "cell_type": "code",
   "execution_count": 1,
   "id": "b26bca2c",
   "metadata": {
    "tags": []
   },
   "outputs": [],
   "source": [
    "from fastai.vision.all import *\n",
    "from fastai.vision.widgets import *"
   ]
  },
  {
   "cell_type": "markdown",
   "id": "ba858f1d",
   "metadata": {},
   "source": [
    "# CIFAR DATASET CLASSIFICATION FROM FASTAI LECTURE 3"
   ]
  },
  {
   "cell_type": "code",
   "execution_count": 2,
   "id": "9c7c6ddb",
   "metadata": {},
   "outputs": [],
   "source": [
    "path=Path()"
   ]
  },
  {
   "cell_type": "markdown",
   "id": "b82580a4",
   "metadata": {},
   "source": [
    "## I still didn't understand this below cell, I think this has to do something shifting from path variable from my windowsOS(path varaiable) to a server which handles with Linux\n",
    "### Linux has a PosixPath and Windows has a WindowsPath and the paths is linked within the export file"
   ]
  },
  {
   "cell_type": "code",
   "execution_count": 3,
   "id": "8f32c399",
   "metadata": {},
   "outputs": [],
   "source": [
    "import pathlib\n",
    "temp = pathlib.WindowsPath\n",
    "pathlib.WindowsPath = pathlib.PosixPath "
   ]
  },
  {
   "cell_type": "code",
   "execution_count": 62,
   "id": "80681afd",
   "metadata": {},
   "outputs": [],
   "source": [
    "model=load_learner(path/\"export.pkl\",cpu=True)"
   ]
  },
  {
   "cell_type": "code",
   "execution_count": 63,
   "id": "835b3a08",
   "metadata": {},
   "outputs": [],
   "source": [
    "#model.predict(\"C:/Users/Turing/Downloads/dog.jpg\")"
   ]
  },
  {
   "cell_type": "code",
   "execution_count": 65,
   "id": "972b1559",
   "metadata": {},
   "outputs": [],
   "source": [
    "#model.dls.vocab"
   ]
  },
  {
   "cell_type": "code",
   "execution_count": 66,
   "id": "350eeac8",
   "metadata": {},
   "outputs": [],
   "source": [
    "btn_upload=FileUpload()"
   ]
  },
  {
   "cell_type": "code",
   "execution_count": 67,
   "id": "be3afa50",
   "metadata": {},
   "outputs": [],
   "source": [
    "out=Output()\n",
    "out.clear_output()"
   ]
  },
  {
   "cell_type": "code",
   "execution_count": 53,
   "id": "9d343bb0",
   "metadata": {},
   "outputs": [],
   "source": [
    "#with out:display(img.to_thumb(32,32))"
   ]
  },
  {
   "cell_type": "code",
   "execution_count": 68,
   "id": "84caf974",
   "metadata": {},
   "outputs": [],
   "source": [
    "lb=Label()\n",
    "lb.value=\"Please Choose the Image\""
   ]
  },
  {
   "cell_type": "code",
   "execution_count": 69,
   "id": "dc62dc2f",
   "metadata": {},
   "outputs": [],
   "source": [
    "btn_run=Button(description=\"Let's Begin\")"
   ]
  },
  {
   "cell_type": "code",
   "execution_count": 70,
   "id": "c0fc09c8",
   "metadata": {},
   "outputs": [],
   "source": [
    "from PIL import Image"
   ]
  },
  {
   "cell_type": "code",
   "execution_count": 73,
   "id": "3607414b",
   "metadata": {},
   "outputs": [],
   "source": [
    "def on_click_classify(change):\n",
    "    img=PILImage.create(btn_upload.data[-1])\n",
    "    out.clear_output()\n",
    "    with out:display(img.to_thumb(128,128))\n",
    "    pred,pred_idx,probs=model.predict(img)\n",
    "    lb.value=f\"Prediction: {pred}; Probability: {probs[pred_idx]:.04f}\"\n",
    "btn_run.on_click(on_click_classify)"
   ]
  },
  {
   "cell_type": "code",
   "execution_count": 74,
   "id": "31b46250",
   "metadata": {},
   "outputs": [
    {
     "data": {
      "application/vnd.jupyter.widget-view+json": {
       "model_id": "2331b6521e4242999161255cb1976798",
       "version_major": 2,
       "version_minor": 0
      },
      "text/plain": [
       "VBox(children=(Label(value='Select you Bear!'), FileUpload(value={}, description='Upload'), Button(description…"
      ]
     },
     "metadata": {},
     "output_type": "display_data"
    }
   ],
   "source": [
    "VBox([widgets.Label(\"Select you Bear!\"),btn_upload,btn_run,out,lb])"
   ]
  },
  {
   "cell_type": "code",
   "execution_count": null,
   "id": "c850fd23-9568-4dcf-a310-f49986c7b78e",
   "metadata": {},
   "outputs": [],
   "source": []
  }
 ],
 "metadata": {
  "kernelspec": {
   "display_name": "fastaiker",
   "language": "python",
   "name": "fastai_v1"
  },
  "language_info": {
   "codemirror_mode": {
    "name": "ipython",
    "version": 3
   },
   "file_extension": ".py",
   "mimetype": "text/x-python",
   "name": "python",
   "nbconvert_exporter": "python",
   "pygments_lexer": "ipython3",
   "version": "3.6.13"
  }
 },
 "nbformat": 4,
 "nbformat_minor": 5
}
